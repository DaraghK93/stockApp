{
 "cells": [
  {
   "cell_type": "code",
   "execution_count": 2,
   "id": "8ce1cd04",
   "metadata": {},
   "outputs": [],
   "source": [
    "import pandas as pd\n",
    "import numpy as np"
   ]
  },
  {
   "cell_type": "code",
   "execution_count": 3,
   "id": "fe3bbeee",
   "metadata": {},
   "outputs": [
    {
     "name": "stdout",
     "output_type": "stream",
     "text": [
      "CPU times: total: 15.6 ms\n",
      "Wall time: 18 ms\n"
     ]
    }
   ],
   "source": [
    "%%time\n",
    "stocks = pd.read_csv('sp500.csv')"
   ]
  },
  {
   "cell_type": "code",
   "execution_count": 4,
   "id": "8949878a",
   "metadata": {
    "scrolled": false
   },
   "outputs": [
    {
     "name": "stdout",
     "output_type": "stream",
     "text": [
      "<class 'pandas.core.frame.DataFrame'>\n",
      "RangeIndex: 493 entries, 0 to 492\n",
      "Data columns (total 20 columns):\n",
      " #   Column               Non-Null Count  Dtype  \n",
      "---  ------               --------------  -----  \n",
      " 0   idnumber             493 non-null    int64  \n",
      " 1   exchange             493 non-null    object \n",
      " 2   symbol               493 non-null    object \n",
      " 3   shortname            493 non-null    object \n",
      " 4   longname             493 non-null    object \n",
      " 5   longnamesort         493 non-null    object \n",
      " 6   sector               493 non-null    object \n",
      " 7   industry             493 non-null    object \n",
      " 8   prices               493 non-null    float64\n",
      " 9   marketcap            493 non-null    float64\n",
      " 10  ebitda               463 non-null    float64\n",
      " 11  revenuegrowth        492 non-null    float64\n",
      " 12  city                 493 non-null    object \n",
      " 13  state                474 non-null    object \n",
      " 14  country              493 non-null    object \n",
      " 15  fulltimeemployees    486 non-null    float64\n",
      " 16  longbusinesssummary  493 non-null    object \n",
      " 17  weight               493 non-null    float64\n",
      " 18  esgrating            493 non-null    int64  \n",
      " 19  logo                 493 non-null    object \n",
      "dtypes: float64(6), int64(2), object(12)\n",
      "memory usage: 77.2+ KB\n",
      "None\n"
     ]
    }
   ],
   "source": [
    "print(stocks.info())"
   ]
  },
  {
   "cell_type": "code",
   "execution_count": 5,
   "id": "a779f128",
   "metadata": {},
   "outputs": [],
   "source": [
    "stocks.drop(['longnamesort','prices','longbusinesssummary','esgrating','logo'], inplace=True, axis=1)"
   ]
  },
  {
   "cell_type": "code",
   "execution_count": 6,
   "id": "c16f956b",
   "metadata": {},
   "outputs": [
    {
     "name": "stdout",
     "output_type": "stream",
     "text": [
      "<class 'pandas.core.frame.DataFrame'>\n",
      "RangeIndex: 493 entries, 0 to 492\n",
      "Data columns (total 15 columns):\n",
      " #   Column             Non-Null Count  Dtype  \n",
      "---  ------             --------------  -----  \n",
      " 0   idnumber           493 non-null    int64  \n",
      " 1   exchange           493 non-null    object \n",
      " 2   symbol             493 non-null    object \n",
      " 3   shortname          493 non-null    object \n",
      " 4   longname           493 non-null    object \n",
      " 5   sector             493 non-null    object \n",
      " 6   industry           493 non-null    object \n",
      " 7   marketcap          493 non-null    float64\n",
      " 8   ebitda             463 non-null    float64\n",
      " 9   revenuegrowth      492 non-null    float64\n",
      " 10  city               493 non-null    object \n",
      " 11  state              474 non-null    object \n",
      " 12  country            493 non-null    object \n",
      " 13  fulltimeemployees  486 non-null    float64\n",
      " 14  weight             493 non-null    float64\n",
      "dtypes: float64(5), int64(1), object(9)\n",
      "memory usage: 57.9+ KB\n",
      "None\n"
     ]
    }
   ],
   "source": [
    "print(stocks.info())"
   ]
  },
  {
   "cell_type": "code",
   "execution_count": null,
   "id": "18132faa",
   "metadata": {},
   "outputs": [],
   "source": []
  }
 ],
 "metadata": {
  "kernelspec": {
   "display_name": "Python 3.9.2 64-bit",
   "language": "python",
   "name": "python3"
  },
  "language_info": {
   "codemirror_mode": {
    "name": "ipython",
    "version": 3
   },
   "file_extension": ".py",
   "mimetype": "text/x-python",
   "name": "python",
   "nbconvert_exporter": "python",
   "pygments_lexer": "ipython3",
   "version": "3.9.2"
  },
  "vscode": {
   "interpreter": {
    "hash": "ad789154965b54cea03aad252b882848fff1523199a0ebcd51c8e6353472bf2e"
   }
  },
  "widgets": {
   "application/vnd.jupyter.widget-state+json": {
    "state": {},
    "version_major": 2,
    "version_minor": 0
   }
  }
 },
 "nbformat": 4,
 "nbformat_minor": 5
}
